{
 "cells": [
  {
   "cell_type": "code",
   "execution_count": 2,
   "metadata": {},
   "outputs": [
    {
     "name": "stderr",
     "output_type": "stream",
     "text": [
      "/usr/lib/python3/dist-packages/matplotlib/__init__.py:874: UserWarning: axes.color_cycle is deprecated and replaced with axes.prop_cycle; please use the latter.\n",
      "  warnings.warn(self.msg_depr % (key, alt_key))\n"
     ]
    }
   ],
   "source": [
    "import pandas as pd\n",
    "import numpy as np\n",
    "from sklearn import preprocessing, neighbors\n",
    "import seaborn as sns\n",
    "import matplotlib.pyplot as plt"
   ]
  },
  {
   "cell_type": "code",
   "execution_count": 3,
   "metadata": {},
   "outputs": [],
   "source": [
    "df = pd.read_csv('voice.csv')"
   ]
  },
  {
   "cell_type": "code",
   "execution_count": 4,
   "metadata": {},
   "outputs": [
    {
     "name": "stderr",
     "output_type": "stream",
     "text": [
      "/usr/local/lib/python3.5/dist-packages/pandas/core/computation/check.py:17: UserWarning: The installed version of numexpr 2.4.3 is not supported in pandas and will be not be used\n",
      "The minimum supported version is 2.4.6\n",
      "\n",
      "  ver=ver, min_ver=_MIN_NUMEXPR_VERSION), UserWarning)\n"
     ]
    },
    {
     "data": {
      "text/plain": [
       "<matplotlib.axes._subplots.AxesSubplot at 0x7fbeb2289c50>"
      ]
     },
     "execution_count": 4,
     "metadata": {},
     "output_type": "execute_result"
    },
    {
     "data": {
      "image/png": "[encoded data removed]",
      "text/plain": [
       "<matplotlib.figure.Figure at 0x7fbeb29faa90>"
      ]
     },
     "metadata": {},
     "output_type": "display_data"
    }
   ],
   "source": [
    "corrmat=df.corr()\n",
    "sns.heatmap(corrmat,linewidths=0.25,vmax=1.0, square=True, cmap=\"BuPu\", linecolor='black')"
   ]
  },
  {
   "cell_type": "code",
   "execution_count": 5,
   "metadata": {},
   "outputs": [
    {
     "name": "stdout",
     "output_type": "stream",
     "text": [
      "['meanfreq', 'sd', 'median', 'Q25', 'Q75', 'IQR', 'skew', 'kurt', 'sp.ent', 'sfm', 'mode', 'centroid', 'meanfun', 'minfun', 'maxfun', 'meandom', 'mindom', 'maxdom', 'dfrange', 'modindx', 'label']\n",
      "<class 'numpy.ndarray'>\n"
     ]
    }
   ],
   "source": [
    "col_names = list(df.columns.values)\n",
    "print(col_names)\n",
    "print (type(df.columns.values))"
   ]
  },
  {
   "cell_type": "code",
   "execution_count": 6,
   "metadata": {},
   "outputs": [
    {
     "data": {
      "text/plain": [
       "array(['meanfreq', 'sd', 'median', 'Q25', 'Q75', 'IQR', 'skew', 'kurt',\n",
       "       'sp.ent', 'sfm', 'mode', 'centroid', 'meanfun', 'minfun', 'maxfun',\n",
       "       'meandom', 'mindom', 'maxdom', 'dfrange', 'modindx', 'gender'],\n",
       "      dtype=object)"
      ]
     },
     "execution_count": 6,
     "metadata": {},
     "output_type": "execute_result"
    }
   ],
   "source": [
    "df = df.rename(columns={'label': 'gender'})\n",
    "df.columns.values"
   ]
  },
  {
   "cell_type": "code",
   "execution_count": 18,
   "metadata": {},
   "outputs": [],
   "source": [
    "#Lets use SVM:\n",
    "#Bootstrapping\n",
    "\n",
    "#Producing X and y\n",
    "X = df.drop(['gender'], 1)\n",
    "y = df['gender']\n",
    "\n",
    "from sklearn.preprocessing import LabelEncoder\n",
    "labelencoder1 = LabelEncoder()\n",
    "y = labelencoder1.fit_transform(y)\n",
    "\n",
    "#Dividing the data randomly into training and test set\n",
    "from sklearn.cross_validation import ShuffleSplit\n",
    "rs =ShuffleSplit(n=3168,n_iter=20,train_size=.8,test_size=.2, random_state=0)\n",
    "\n",
    "for train_index, test_index in rs:\n",
    "    X_train, X_test = X.iloc[train_index], X.iloc[test_index]\n",
    "    y_train, y_test = y[train_index], y[test_index]\n",
    "\n",
    "from sklearn.preprocessing import StandardScaler\n",
    "sc = StandardScaler()\n",
    "X_train = sc.fit_transform(X_train)\n",
    "X_test = sc.transform(X_test)"
   ]
  },
  {
   "cell_type": "code",
   "execution_count": 19,
   "metadata": {},
   "outputs": [
    {
     "name": "stdout",
     "output_type": "stream",
     "text": [
      "Train accuracy : 0.9763220205209155\n",
      "Test accuracy : 0.9747634069400631\n",
      "[[313   7]\n",
      " [  9 305]]\n",
      "0.025236593059936908\n"
     ]
    },
    {
     "data": {
      "image/png": "[encoded data removed]",
      "text/plain": [
       "<matplotlib.figure.Figure at 0x7fbeb22a3550>"
      ]
     },
     "metadata": {},
     "output_type": "display_data"
    },
    {
     "name": "stdout",
     "output_type": "stream",
     "text": [
      "0.9923168789808916\n"
     ]
    }
   ],
   "source": [
    "\n",
    "from sklearn.svm import SVC\n",
    "from sklearn import svm\n",
    "classifier = SVC(kernel = 'linear', random_state=10, gamma='auto')\n",
    "#classifier = OneVsRestClassifier(svm.SVC(kernel='linear', probability=True,\n",
    "#random_state=10))\n",
    "classifier.fit(X_train, y_train)\n",
    "\n",
    "\n",
    "print('Train accuracy :',classifier.score(X_train,y_train))\n",
    "print('Test accuracy :',classifier.score(X_test,y_test))\n",
    "\n",
    "y_pred=classifier.predict(X_test)\n",
    "y_score = classifier.fit(X_train, y_train).decision_function(X_test)\n",
    "\n",
    "from sklearn.metrics import confusion_matrix\n",
    "print(confusion_matrix(y_test, y_pred))\n",
    "\n",
    "c = confusion_matrix(y_test, y_pred)\n",
    "\n",
    "# mcr is misclassification rate\n",
    "mcr = ( c[0][1] + c[1][0] ) / ( c[0][0] + c[0][1] + c[1][0] + c[1][1] ) \n",
    "print(mcr)\n",
    "\n",
    "from sklearn.metrics import roc_curve, auc\n",
    "fpr = dict()\n",
    "tpr = dict()\n",
    "roc_auc = dict()\n",
    "\n",
    "fpr, tpr, _ = roc_curve(y_test, y_score)\n",
    "roc_auc = auc(fpr, tpr)\n",
    "\n",
    "plt.plot(fpr,tpr)\n",
    "plt.show()\n",
    "print(roc_auc)"
   ]
  },
  {
   "cell_type": "code",
   "execution_count": 20,
   "metadata": {},
   "outputs": [
    {
     "name": "stdout",
     "output_type": "stream",
     "text": [
      "Train accuracy : 1.0\n",
      "Test accuracy : 0.7176656151419558\n",
      "[[320   0]\n",
      " [179 135]]\n",
      "0.2823343848580442\n"
     ]
    },
    {
     "data": {
      "image/png": "[encoded data removed]",
      "text/plain": [
       "<matplotlib.figure.Figure at 0x7fbeadcec668>"
      ]
     },
     "metadata": {},
     "output_type": "display_data"
    },
    {
     "name": "stdout",
     "output_type": "stream",
     "text": [
      "0.9739400875796179\n"
     ]
    }
   ],
   "source": [
    "# kernal is rbf\n",
    "from sklearn.svm import SVC\n",
    "from sklearn import svm\n",
    "classifier = SVC(kernel = 'rbf', random_state=10,gamma=8)\n",
    "classifier.fit(X_train, y_train)\n",
    "\n",
    "\n",
    "print('Train accuracy :',classifier.score(X_train,y_train))\n",
    "print('Test accuracy :',classifier.score(X_test,y_test))\n",
    "\n",
    "y_pred=classifier.predict(X_test)\n",
    "y_score = classifier.fit(X_train, y_train).decision_function(X_test)\n",
    "\n",
    "from sklearn.metrics import confusion_matrix\n",
    "print(confusion_matrix(y_test, y_pred))\n",
    "c = confusion_matrix(y_test, y_pred)\n",
    "# mcr is misclassification rate\n",
    "mcr = ( c[0][1] + c[1][0] ) / ( c[0][0] + c[0][1] + c[1][0] + c[1][1] ) \n",
    "print(mcr)\n",
    "\n",
    "from sklearn.metrics import roc_curve, auc\n",
    "fpr = dict()\n",
    "tpr = dict()\n",
    "roc_auc = dict()\n",
    "\n",
    "fpr, tpr, _ = roc_curve(y_test, y_score)\n",
    "roc_auc = auc(fpr, tpr)\n",
    "\n",
    "plt.plot(fpr,tpr)\n",
    "plt.show()\n",
    "print(roc_auc)"
   ]
  },
  {
   "cell_type": "code",
   "execution_count": 21,
   "metadata": {},
   "outputs": [
    {
     "name": "stdout",
     "output_type": "stream",
     "text": [
      "Train accuracy : 0.6033938437253354\n",
      "Test accuracy : 0.6025236593059937\n",
      "[[184 136]\n",
      " [116 198]]\n",
      "0.39747634069400634\n"
     ]
    },
    {
     "data": {
      "image/png": "[encoded data removed]",
      "text/plain": [
       "<matplotlib.figure.Figure at 0x7fbeadd93ba8>"
      ]
     },
     "metadata": {},
     "output_type": "display_data"
    },
    {
     "name": "stdout",
     "output_type": "stream",
     "text": [
      "0.713002587579618\n"
     ]
    }
   ],
   "source": [
    "#kernel is sigmoid\n",
    "from sklearn.svm import SVC\n",
    "from sklearn import svm\n",
    "classifier = SVC(kernel = 'sigmoid', random_state=0, gamma=1000,coef0=.1)\n",
    "classifier.fit(X_train, y_train)\n",
    "\n",
    "\n",
    "print('Train accuracy :',classifier.score(X_train,y_train))\n",
    "print('Test accuracy :',classifier.score(X_test,y_test))\n",
    "\n",
    "y_pred=classifier.predict(X_test)\n",
    "y_score = classifier.fit(X_train, y_train).decision_function(X_test)\n",
    "\n",
    "from sklearn.metrics import confusion_matrix\n",
    "print(confusion_matrix(y_test, y_pred))\n",
    "c = confusion_matrix(y_test, y_pred)\n",
    "# mcr is misclassification rate\n",
    "mcr = ( c[0][1] + c[1][0] ) / ( c[0][0] + c[0][1] + c[1][0] + c[1][1] ) \n",
    "print(mcr)\n",
    "\n",
    "from sklearn.metrics import roc_curve, auc\n",
    "fpr = dict()\n",
    "tpr = dict()\n",
    "roc_auc = dict()\n",
    "\n",
    "fpr, tpr, _ = roc_curve(y_test, y_score)\n",
    "roc_auc = auc(fpr, tpr)\n",
    "\n",
    "plt.plot(fpr,tpr)\n",
    "plt.show()\n",
    "print(roc_auc)"
   ]
  },
  {
   "cell_type": "code",
   "execution_count": 22,
   "metadata": {},
   "outputs": [
    {
     "name": "stdout",
     "output_type": "stream",
     "text": [
      "Train accuracy : 0.9108129439621152\n",
      "Test accuracy : 0.9227129337539433\n",
      "[[283  37]\n",
      " [ 12 302]]\n",
      "0.07728706624605679\n"
     ]
    },
    {
     "data": {
      "image/png": "[encoded data removed]",
      "text/plain": [
       "<matplotlib.figure.Figure at 0x7fbeadd61ba8>"
      ]
     },
     "metadata": {},
     "output_type": "display_data"
    },
    {
     "name": "stdout",
     "output_type": "stream",
     "text": [
      "0.9712480095541401\n"
     ]
    }
   ],
   "source": [
    "#kernel is polynomial\n",
    "\n",
    "from sklearn.svm import SVC\n",
    "from sklearn import svm\n",
    "classifier = SVC(kernel = 'poly',  degree = 2)\n",
    "classifier.fit(X_train, y_train)\n",
    "\n",
    "\n",
    "print('Train accuracy :',classifier.score(X_train,y_train))\n",
    "print('Test accuracy :',classifier.score(X_test,y_test))\n",
    "\n",
    "y_pred=classifier.predict(X_test)\n",
    "y_score = classifier.fit(X_train, y_train).decision_function(X_test)\n",
    "\n",
    "\n",
    "from sklearn.metrics import confusion_matrix\n",
    "print(confusion_matrix(y_test, y_pred))\n",
    "c = confusion_matrix(y_test, y_pred)\n",
    "# mcr is misclassification rate\n",
    "mcr = ( c[0][1] + c[1][0] ) / ( c[0][0] + c[0][1] + c[1][0] + c[1][1] ) \n",
    "print(mcr)\n",
    "\n",
    "\n",
    "from sklearn.metrics import roc_curve, auc\n",
    "fpr = dict()\n",
    "tpr = dict()\n",
    "roc_auc = dict()\n",
    "\n",
    "fpr, tpr, _ = roc_curve(y_test, y_score)\n",
    "roc_auc = auc(fpr, tpr)\n",
    "\n",
    "plt.plot(fpr,tpr)\n",
    "plt.show()\n",
    "print(roc_auc)"
   ]
  },
  {
   "cell_type": "code",
   "execution_count": 23,
   "metadata": {},
   "outputs": [
    {
     "name": "stdout",
     "output_type": "stream",
     "text": [
      "['meanfreq', 'sd', 'median', 'Q25', 'Q75', 'IQR', 'skew', 'kurt', 'sp.ent', 'sfm', 'mode', 'centroid', 'meanfun', 'minfun', 'maxfun', 'meandom', 'mindom', 'maxdom', 'dfrange', 'modindx', 'label']\n",
      "<class 'numpy.ndarray'>\n",
      "Train accuracy : 0.9593528018942383\n",
      "Test accuracy : 0.9684542586750788\n",
      "[[290  11]\n",
      " [  9 324]]\n",
      "0.031545741324921134\n"
     ]
    },
    {
     "data": {
      "image/png": "[encoded data removed]",
      "text/plain": [
       "<matplotlib.figure.Figure at 0x7fbeadd99d68>"
      ]
     },
     "metadata": {},
     "output_type": "display_data"
    },
    {
     "name": "stdout",
     "output_type": "stream",
     "text": [
      "0.9927967834944579\n"
     ]
    }
   ],
   "source": [
    "import pandas as pd\n",
    "import numpy as np\n",
    "from sklearn import preprocessing, neighbors\n",
    "from sklearn.cross_validation import train_test_split\n",
    "from sklearn.linear_model import LogisticRegression\n",
    "import seaborn as sns\n",
    "import matplotlib.pyplot as plt\n",
    "\n",
    "df = pd.read_csv('voice.csv')\n",
    "\n",
    "corrmat=df.corr()\n",
    "sns.heatmap(corrmat,linewidths=0.25,vmax=1.0, square=True, cmap=\"BuPu\", linecolor='black')\n",
    "\n",
    "col_names = list(df.columns.values)\n",
    "print(col_names)\n",
    "print (type(df.columns.values))\n",
    "\n",
    "df = df.rename(columns={'label': 'gender'})\n",
    "df.columns.values\n",
    "\n",
    "#Lets use SVM:\n",
    "#Bootstrapping\n",
    "df1=df[['meanfreq','sd','median','meanfun','gender']]\n",
    "\n",
    "#Producing X and y\n",
    "X = df1.drop(['gender'], 1)\n",
    "y = df1['gender']\n",
    "\n",
    "from sklearn.preprocessing import LabelEncoder\n",
    "labelencoder1 = LabelEncoder()\n",
    "y = labelencoder1.fit_transform(y)\n",
    "\n",
    "#Dividing the data randomly into training and test set\n",
    "from sklearn.cross_validation import ShuffleSplit\n",
    "rs =ShuffleSplit(n=3168,n_iter=30,train_size=.8,test_size=.2, random_state=0)\n",
    "\n",
    "for train_index, test_index in rs:\n",
    "    X_train, X_test = X.iloc[train_index], X.iloc[test_index]\n",
    "    y_train, y_test = y[train_index], y[test_index]\n",
    "\n",
    "from sklearn.preprocessing import StandardScaler\n",
    "sc = StandardScaler()\n",
    "X_train = sc.fit_transform(X_train)\n",
    "X_test = sc.transform(X_test)\n",
    "\n",
    "\n",
    "from sklearn.svm import SVC\n",
    "from sklearn import svm\n",
    "classifier = SVC(kernel = 'linear', random_state=10, gamma='auto')\n",
    "classifier.fit(X_train, y_train)\n",
    "\n",
    "print('Train accuracy :',classifier.score(X_train,y_train))\n",
    "print('Test accuracy :',classifier.score(X_test,y_test))\n",
    "\n",
    "y_pred=classifier.predict(X_test)\n",
    "y_score = classifier.fit(X_train, y_train).decision_function(X_test)\n",
    "\n",
    "from sklearn.metrics import confusion_matrix\n",
    "print(confusion_matrix(y_test, y_pred))\n",
    "c = confusion_matrix(y_test, y_pred)\n",
    "# mcr is misclassification rate\n",
    "mcr = ( c[0][1] + c[1][0] ) / ( c[0][0] + c[0][1] + c[1][0] + c[1][1] ) \n",
    "print(mcr)\n",
    "\n",
    "from sklearn.metrics import roc_curve, auc\n",
    "fpr = dict()\n",
    "tpr = dict()\n",
    "roc_auc = dict()\n",
    "\n",
    "fpr, tpr, _ = roc_curve(y_test, y_score)\n",
    "roc_auc = auc(fpr, tpr)\n",
    "\n",
    "plt.plot(fpr,tpr)\n",
    "plt.show()\n",
    "print(roc_auc)"
   ]
  },
  {
   "cell_type": "code",
   "execution_count": 24,
   "metadata": {},
   "outputs": [
    {
     "name": "stdout",
     "output_type": "stream",
     "text": [
      "['meanfreq', 'sd', 'median', 'Q25', 'Q75', 'IQR', 'skew', 'kurt', 'sp.ent', 'sfm', 'mode', 'centroid', 'meanfun', 'minfun', 'maxfun', 'meandom', 'mindom', 'maxdom', 'dfrange', 'modindx', 'label']\n",
      "<class 'numpy.ndarray'>\n",
      "Train accuracy : 0.9573796369376479\n",
      "Test accuracy : 0.9668769716088328\n",
      "[[-0.21877308  0.14757172 -0.73566337]\n",
      " [-0.70958955  0.0958238  -1.00885235]\n",
      " [ 0.4692413   0.27072924 -0.66945096]\n",
      " ...\n",
      " [ 0.99233554 -0.27477965 -0.04332505]\n",
      " [ 0.81264742 -1.57517895  0.47173126]\n",
      " [ 0.955706   -0.70319811  2.25527963]]\n",
      "[[288  13]\n",
      " [  8 325]]\n",
      "0.033123028391167195\n"
     ]
    },
    {
     "data": {
      "image/png": "[encoded data removed]",
      "text/plain": [
       "<matplotlib.figure.Figure at 0x7fbeadd1a588>"
      ]
     },
     "metadata": {},
     "output_type": "display_data"
    },
    {
     "name": "stdout",
     "output_type": "stream",
     "text": [
      "0.9930661558568535\n"
     ]
    }
   ],
   "source": [
    "import pandas as pd\n",
    "import numpy as np\n",
    "from sklearn import preprocessing, neighbors\n",
    "from sklearn.cross_validation import train_test_split\n",
    "from sklearn.linear_model import LogisticRegression\n",
    "import seaborn as sns\n",
    "import matplotlib.pyplot as plt\n",
    "\n",
    "df = pd.read_csv('voice.csv')\n",
    "\n",
    "corrmat=df.corr()\n",
    "sns.heatmap(corrmat,linewidths=0.25,vmax=1.0, square=True, cmap=\"BuPu\", linecolor='black')\n",
    "\n",
    "col_names = list(df.columns.values)\n",
    "print(col_names)\n",
    "print (type(df.columns.values))\n",
    "\n",
    "df = df.rename(columns={'label': 'gender'})\n",
    "df.columns.values\n",
    "\n",
    "#Lets use SVM:\n",
    "#Bootstrapping\n",
    "df1=df[['meanfreq','sd','meanfun','gender']]\n",
    "\n",
    "#Producing X and y\n",
    "X = df1.drop(['gender'], 1)\n",
    "y = df1['gender']\n",
    "\n",
    "from sklearn.preprocessing import LabelEncoder\n",
    "labelencoder1 = LabelEncoder()\n",
    "y = labelencoder1.fit_transform(y)\n",
    "\n",
    "#Dividing the data randomly into training and test set\n",
    "from sklearn.cross_validation import ShuffleSplit\n",
    "rs =ShuffleSplit(n=3168,n_iter=30,train_size=.8,test_size=.2, random_state=0)\n",
    "\n",
    "for train_index, test_index in rs:\n",
    "    X_train, X_test = X.iloc[train_index], X.iloc[test_index]\n",
    "    y_train, y_test = y[train_index], y[test_index]\n",
    "\n",
    "from sklearn.preprocessing import StandardScaler\n",
    "sc = StandardScaler()\n",
    "X_train = sc.fit_transform(X_train)\n",
    "X_test = sc.transform(X_test)\n",
    "\n",
    "\n",
    "from sklearn.svm import SVC\n",
    "from sklearn import svm\n",
    "classifier = SVC(kernel = 'linear', random_state=10, gamma='auto')\n",
    "classifier.fit(X_train, y_train)\n",
    "\n",
    "print('Train accuracy :',classifier.score(X_train,y_train))\n",
    "print('Test accuracy :',classifier.score(X_test,y_test))\n",
    "print(X_test)\n",
    "y_pred=classifier.predict(X_test)\n",
    "y_score = classifier.fit(X_train, y_train).decision_function(X_test)\n",
    "\n",
    "\n",
    "from sklearn.metrics import confusion_matrix\n",
    "print(confusion_matrix(y_test, y_pred))\n",
    "c = confusion_matrix(y_test, y_pred)\n",
    "# mcr is misclassification rate\n",
    "mcr = ( c[0][1] + c[1][0] ) / ( c[0][0] + c[0][1] + c[1][0] + c[1][1] ) \n",
    "print(mcr)\n",
    "\n",
    "\n",
    "from sklearn.metrics import roc_curve, auc\n",
    "fpr = dict()\n",
    "tpr = dict()\n",
    "roc_auc = dict()\n",
    "\n",
    "fpr, tpr, _ = roc_curve(y_test, y_score)\n",
    "roc_auc = auc(fpr, tpr)\n",
    "\n",
    "plt.plot(fpr,tpr)\n",
    "plt.show()\n",
    "print(roc_auc)"
   ]
  },
  {
   "cell_type": "code",
   "execution_count": 25,
   "metadata": {},
   "outputs": [
    {
     "name": "stdout",
     "output_type": "stream",
     "text": [
      "['meanfreq', 'sd', 'median', 'Q25', 'Q75', 'IQR', 'skew', 'kurt', 'sp.ent', 'sfm', 'mode', 'centroid', 'meanfun', 'minfun', 'maxfun', 'meandom', 'mindom', 'maxdom', 'dfrange', 'modindx', 'label']\n",
      "<class 'numpy.ndarray'>\n",
      "HERE\n",
      "[1 1 1 ... 0 0 0]\n",
      "Train accuracy : 0.9707971586424625\n",
      "Test accuracy : 0.9779179810725552\n",
      "[[-0.73566337  0.38339938 -0.44857342 ...  0.14757172  0.70628678\n",
      "  -0.21877308]\n",
      " [-1.00885235  0.52648417 -0.64379762 ...  0.0958238  -0.15253728\n",
      "  -0.70958955]\n",
      " [-0.66945096  0.90946571 -0.09715866 ...  0.27072924 -0.68962433\n",
      "   0.4692413 ]\n",
      " ...\n",
      " [-0.04332505  0.17867029  0.49169133 ... -0.27477965 -0.45119447\n",
      "   0.99233554]\n",
      " [ 0.47173126 -1.00886032  0.9677461  ... -1.57517895 -1.33356848\n",
      "   0.81264742]\n",
      " [ 2.25527963 -1.43691758  1.37394757 ... -0.70319811 -0.75449598\n",
      "   0.955706  ]]\n",
      "[1 1 1 0 0 0 1 1 0 1 1 0 0 1 1 1 0 0 1 1 1 1 0 0 0 1 1 0 1 1 0 0 0 1 0 0 1\n",
      " 0 0 0 1 0 0 1 1 1 1 0 1 1 1 1 1 1 0 0 0 1 0 1 0 0 1 1 0 1 0 1 0 0 0 1 0 1\n",
      " 0 1 1 0 1 0 0 0 0 0 1 1 0 1 1 0 0 1 0 1 0 0 1 1 1 1 0 1 0 0 1 1 0 0 1 1 1\n",
      " 0 0 0 0 1 0 1 0 0 1 1 0 1 1 0 1 0 0 0 1 0 1 0 0 0 0 0 1 1 0 1 0 1 0 1 0 0\n",
      " 0 1 1 1 0 1 1 1 1 0 0 1 0 1 1 0 1 1 1 1 1 0 0 1 1 0 0 1 1 1 1 0 1 1 0 0 0\n",
      " 0 0 1 0 1 0 1 1 0 0 1 0 1 0 0 0 0 1 0 0 0 1 0 1 1 0 0 1 0 0 1 0 1 1 1 1 0\n",
      " 1 1 0 0 1 1 1 1 0 1 0 0 0 1 1 0 1 1 1 0 1 1 1 1 1 1 1 0 0 1 0 0 0 1 0 0 1\n",
      " 1 0 1 1 1 0 0 1 0 1 0 1 0 0 0 1 1 1 1 0 0 0 0 1 1 0 1 1 0 1 1 1 0 0 0 1 1\n",
      " 0 1 0 0 1 1 1 0 0 1 1 0 0 0 0 0 1 1 1 0 1 0 0 0 1 1 1 1 0 1 1 1 0 0 0 1 0\n",
      " 1 0 0 0 1 1 0 1 0 0 0 1 0 1 1 1 1 1 0 0 1 0 0 1 1 1 0 0 0 1 1 0 0 0 0 1 0\n",
      " 0 1 1 1 0 0 1 0 1 1 1 1 0 1 0 1 1 0 0 0 0 0 1 1 0 0 0 1 1 0 1 0 1 1 1 0 0\n",
      " 0 1 1 1 0 1 0 1 0 0 1 0 0 0 0 1 0 0 0 1 1 1 0 0 0 0 0 1 1 1 1 1 1 0 0 1 0\n",
      " 0 0 1 0 1 0 1 0 1 1 1 0 0 0 0 0 1 1 1 0 0 0 0 1 1 1 1 0 1 0 1 0 1 0 1 0 1\n",
      " 1 1 1 1 1 1 1 0 1 1 1 0 1 0 0 0 1 0 0 0 1 1 1 1 0 0 0 0 1 1 0 1 1 0 1 1 1\n",
      " 1 1 0 1 1 1 0 0 1 1 1 0 0 0 0 1 0 0 1 1 1 0 0 1 1 0 1 1 0 1 1 0 0 0 0 1 1\n",
      " 1 1 1 1 1 0 1 0 0 1 1 1 0 0 0 1 1 1 1 0 1 1 1 1 1 1 0 1 0 0 0 1 1 0 1 0 1\n",
      " 1 1 0 1 0 0 1 1 1 0 0 0 0 0 1 1 1 0 1 1 1 1 1 1 1 1 0 1 0 1 1 1 0 0 0 1 0\n",
      " 1 0 1 0 0]\n",
      "[[294   7]\n",
      " [  7 326]]\n",
      "0.022082018927444796\n"
     ]
    },
    {
     "data": {
      "image/png": "[encoded data removed]",
      "text/plain": [
       "<matplotlib.figure.Figure at 0x7fbeadf09ac8>"
      ]
     },
     "metadata": {},
     "output_type": "display_data"
    },
    {
     "name": "stdout",
     "output_type": "stream",
     "text": [
      "0.9970967645386251\n"
     ]
    }
   ],
   "source": [
    "import pandas as pd\n",
    "import numpy as np\n",
    "from sklearn import preprocessing, neighbors\n",
    "from sklearn.cross_validation import train_test_split\n",
    "from sklearn.linear_model import LogisticRegression\n",
    "import seaborn as sns\n",
    "import matplotlib.pyplot as plt\n",
    "\n",
    "df = pd.read_csv('voice.csv')\n",
    "\n",
    "corrmat=df.corr()\n",
    "sns.heatmap(corrmat,linewidths=0.25,vmax=1.0, square=True, cmap=\"BuPu\", linecolor='black')\n",
    "\n",
    "col_names = list(df.columns.values)\n",
    "print(col_names)\n",
    "print (type(df.columns.values))\n",
    "\n",
    "df = df.rename(columns={'label': 'gender'})\n",
    "df.columns.values\n",
    "\n",
    "#Lets use SVM:\n",
    "#Bootstrapping\n",
    "\n",
    "df1=df[['meanfun','IQR','Q25','sp.ent','sd','sfm','meanfreq','gender']]\n",
    "#Producing X and y\n",
    "X = df1.drop(['gender'], 1)\n",
    "y = df1['gender']\n",
    "\n",
    "from sklearn.preprocessing import LabelEncoder\n",
    "labelencoder1 = LabelEncoder()\n",
    "y = labelencoder1.fit_transform(y)\n",
    "print(\"HERE\")\n",
    "print(y)\n",
    "#Dividing the data randomly into training and test set\n",
    "from sklearn.cross_validation import ShuffleSplit\n",
    "rs =ShuffleSplit(n=3168,n_iter=30,train_size=.8,test_size=.2, random_state=0)\n",
    "\n",
    "for train_index, test_index in rs:\n",
    "    X_train, X_test = X.iloc[train_index], X.iloc[test_index]\n",
    "    y_train, y_test = y[train_index], y[test_index]\n",
    "\n",
    "from sklearn.preprocessing import StandardScaler\n",
    "sc = StandardScaler()\n",
    "X_train = sc.fit_transform(X_train)\n",
    "X_test = sc.transform(X_test)\n",
    "\n",
    "\n",
    "from sklearn.svm import SVC\n",
    "from sklearn import svm\n",
    "classifier = SVC(kernel = 'linear', random_state=10, gamma='auto')\n",
    "classifier.fit(X_train, y_train)\n",
    "\n",
    "\n",
    "print('Train accuracy :',classifier.score(X_train,y_train))\n",
    "print('Test accuracy :',classifier.score(X_test,y_test))\n",
    "\n",
    "y_pred=classifier.predict(X_test)\n",
    "y_score = classifier.fit(X_train, y_train).decision_function(X_test)\n",
    "print(X_test)\n",
    "print(y_pred)\n",
    "from sklearn.metrics import confusion_matrix\n",
    "print(confusion_matrix(y_test, y_pred))\n",
    "c = confusion_matrix(y_test, y_pred)\n",
    "# mcr is misclassification rate\n",
    "mcr = ( c[0][1] + c[1][0] ) / ( c[0][0] + c[0][1] + c[1][0] + c[1][1] ) \n",
    "print(mcr)\n",
    "\n",
    "\n",
    "from sklearn.metrics import roc_curve, auc\n",
    "fpr = dict()\n",
    "tpr = dict()\n",
    "roc_auc = dict()\n",
    "\n",
    "fpr, tpr, _ = roc_curve(y_test, y_score)\n",
    "roc_auc = auc(fpr, tpr)\n",
    "\n",
    "plt.plot(fpr,tpr)\n",
    "plt.show()\n",
    "print(roc_auc)"
   ]
  },
  {
   "cell_type": "code",
   "execution_count": null,
   "metadata": {},
   "outputs": [],
   "source": []
  },
  {
   "cell_type": "code",
   "execution_count": null,
   "metadata": {},
   "outputs": [],
   "source": []
  },
  {
   "cell_type": "code",
   "execution_count": null,
   "metadata": {},
   "outputs": [],
   "source": []
  },
  {
   "cell_type": "code",
   "execution_count": null,
   "metadata": {},
   "outputs": [],
   "source": []
  },
  {
   "cell_type": "code",
   "execution_count": null,
   "metadata": {},
   "outputs": [],
   "source": []
  }
 ],
 "metadata": {
  "kernelspec": {
   "display_name": "Python 3",
   "language": "python",
   "name": "python3"
  },
  "language_info": {
   "codemirror_mode": {
    "name": "ipython",
    "version": 3
   },
   "file_extension": ".py",
   "mimetype": "text/x-python",
   "name": "python",
   "nbconvert_exporter": "python",
   "pygments_lexer": "ipython3",
   "version": "3.5.2"
  }
 },
 "nbformat": 4,
 "nbformat_minor": 2
}
